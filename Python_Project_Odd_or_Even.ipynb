{
  "nbformat": 4,
  "nbformat_minor": 0,
  "metadata": {
    "colab": {
      "name": "Python Project-Odd or Even.ipynb",
      "provenance": [],
      "authorship_tag": "ABX9TyMd9LAfTkwGf+SXJjl0XgZY",
      "include_colab_link": true
    },
    "kernelspec": {
      "name": "python3",
      "display_name": "Python 3"
    }
  },
  "cells": [
    {
      "cell_type": "markdown",
      "metadata": {
        "id": "view-in-github",
        "colab_type": "text"
      },
      "source": [
        "<a href=\"https://colab.research.google.com/github/stepmoon/Unit_2_Python/blob/main/Python_Project_Odd_or_Even.ipynb\" target=\"_parent\"><img src=\"https://colab.research.google.com/assets/colab-badge.svg\" alt=\"Open In Colab\"/></a>"
      ]
    },
    {
      "cell_type": "code",
      "metadata": {
        "colab": {
          "base_uri": "https://localhost:8080/"
        },
        "id": "n0O1SwDErZxR",
        "outputId": "fdc8712d-01be-4d24-db5e-971499ae4f47"
      },
      "source": [
        "num = int(input(\"Enter a number: \"))\r\n",
        "if (num % 2) == 0:\r\n",
        "  print(\"This is an even number.\")\r\n",
        "else:\r\n",
        "  print(\"This is an odd number.\")"
      ],
      "execution_count": 1,
      "outputs": [
        {
          "output_type": "stream",
          "text": [
            "Enter a number: 20\n",
            "This is an even number.\n"
          ],
          "name": "stdout"
        }
      ]
    }
  ]
}