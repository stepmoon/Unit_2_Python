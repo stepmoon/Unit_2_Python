{
  "nbformat": 4,
  "nbformat_minor": 0,
  "metadata": {
    "colab": {
      "name": "Copy of Unit2_L4_Looping.ipynb",
      "provenance": [],
      "authorship_tag": "ABX9TyNd1nH7PwZLsNBNYRPbjIdf",
      "include_colab_link": true
    },
    "kernelspec": {
      "name": "python3",
      "display_name": "Python 3"
    }
  },
  "cells": [
    {
      "cell_type": "markdown",
      "metadata": {
        "id": "view-in-github",
        "colab_type": "text"
      },
      "source": [
        "<a href=\"https://colab.research.google.com/github/stepmoon/Unit_2_Python/blob/main/Copy_of_Unit2_L4_Looping.ipynb\" target=\"_parent\"><img src=\"https://colab.research.google.com/assets/colab-badge.svg\" alt=\"Open In Colab\"/></a>"
      ]
    },
    {
      "cell_type": "markdown",
      "metadata": {
        "id": "52SQDlqX-wkp"
      },
      "source": [
        "Name: Stephanie Moon"
      ]
    },
    {
      "cell_type": "markdown",
      "metadata": {
        "id": "JZRW4cst--ON"
      },
      "source": [
        "Lesson 4- Looping"
      ]
    },
    {
      "cell_type": "markdown",
      "metadata": {
        "id": "quwJqO4C_Bja"
      },
      "source": [
        "1.Create a list that holds 5 data variables. "
      ]
    },
    {
      "cell_type": "code",
      "metadata": {
        "id": "yn9lClXB_GjK"
      },
      "source": [
        "favfruits =['apple','banana','mango','kiwi','orange']"
      ],
      "execution_count": null,
      "outputs": []
    },
    {
      "cell_type": "markdown",
      "metadata": {
        "id": "1dThtENl_Icm"
      },
      "source": [
        "2.Print out those variables by using a for loop."
      ]
    },
    {
      "cell_type": "code",
      "metadata": {
        "colab": {
          "base_uri": "https://localhost:8080/"
        },
        "id": "fg6tdIvDO6i-",
        "outputId": "c9885c2d-5d7b-4be1-937c-84cfe549c540"
      },
      "source": [
        "favfruits = ['apple','banana','mango','kiwi','orange']\r\n",
        "for fruit in favfruits:\r\n",
        "  print(fruit)"
      ],
      "execution_count": null,
      "outputs": [
        {
          "output_type": "stream",
          "text": [
            "apple\n",
            "banana\n",
            "mango\n",
            "kiwi\n",
            "orange\n"
          ],
          "name": "stdout"
        }
      ]
    },
    {
      "cell_type": "markdown",
      "metadata": {
        "id": "oTMqXbLh_Ra_"
      },
      "source": [
        "3.Modify your for loop to add a message to your for loop."
      ]
    },
    {
      "cell_type": "code",
      "metadata": {
        "id": "wPdmBPwkP5lX",
        "colab": {
          "base_uri": "https://localhost:8080/"
        },
        "outputId": "53649dcf-725b-4dd1-edcf-0ef2250e72ca"
      },
      "source": [
        "favfruits = ['apple','banana','mango','kiwi','orange']\r\n",
        "for fruit in favfruits:\r\n",
        "  print(fruit.capitalize() + \", is one of my favorite fruits!\")"
      ],
      "execution_count": null,
      "outputs": [
        {
          "output_type": "stream",
          "text": [
            "Apple, is one of my favorite fruits!\n",
            "Banana, is one of my favorite fruits!\n",
            "Mango, is one of my favorite fruits!\n",
            "Kiwi, is one of my favorite fruits!\n",
            "Orange, is one of my favorite fruits!\n"
          ],
          "name": "stdout"
        }
      ]
    },
    {
      "cell_type": "markdown",
      "metadata": {
        "id": "o2iu-0JO_azh"
      },
      "source": [
        "4.Use a for loop to print even numbers from 1-20."
      ]
    },
    {
      "cell_type": "code",
      "metadata": {
        "id": "rHJ1HEfiQTkE",
        "colab": {
          "base_uri": "https://localhost:8080/"
        },
        "outputId": "08875d26-0ecb-46de-d745-14db8660841d"
      },
      "source": [
        "for num in range (0,21,2):\r\n",
        "  print(num)"
      ],
      "execution_count": null,
      "outputs": [
        {
          "output_type": "stream",
          "text": [
            "0\n",
            "2\n",
            "4\n",
            "6\n",
            "8\n",
            "10\n",
            "12\n",
            "14\n",
            "16\n",
            "18\n",
            "20\n"
          ],
          "name": "stdout"
        }
      ]
    },
    {
      "cell_type": "markdown",
      "metadata": {
        "id": "ci18FrdL_fbA"
      },
      "source": [
        "5.Sort your list in alphabetic order."
      ]
    },
    {
      "cell_type": "code",
      "metadata": {
        "id": "D9ia7wmGQrzO",
        "colab": {
          "base_uri": "https://localhost:8080/"
        },
        "outputId": "07875365-a499-42bf-d2b6-cfeba94dc638"
      },
      "source": [
        "favfruits = ['apple','banana','mango','kiwi','orange']\r\n",
        "print(favfruits)\r\n",
        "favfruits.sort()\r\n",
        "print(favfruits)"
      ],
      "execution_count": null,
      "outputs": [
        {
          "output_type": "stream",
          "text": [
            "['apple', 'banana', 'mango', 'kiwi', 'orange']\n",
            "['apple', 'banana', 'kiwi', 'mango', 'orange']\n"
          ],
          "name": "stdout"
        }
      ]
    },
    {
      "cell_type": "markdown",
      "metadata": {
        "id": "dIPVFs5m_mqw"
      },
      "source": [
        "6.Print out the first three elements of your list."
      ]
    },
    {
      "cell_type": "code",
      "metadata": {
        "id": "bIpCX3OdRTCS",
        "colab": {
          "base_uri": "https://localhost:8080/"
        },
        "outputId": "bfed3be0-f3b5-4c6e-9841-a7a645e4560c"
      },
      "source": [
        "favfruits = ['apple','banana','mango','kiwi','orange']\r\n",
        "print(favfruits[:3])"
      ],
      "execution_count": null,
      "outputs": [
        {
          "output_type": "stream",
          "text": [
            "['apple', 'banana', 'mango']\n"
          ],
          "name": "stdout"
        }
      ]
    },
    {
      "cell_type": "markdown",
      "metadata": {
        "id": "QjbgilaD_slf"
      },
      "source": [
        "7.Create a loop to print the last 2 elements of your list."
      ]
    },
    {
      "cell_type": "code",
      "metadata": {
        "id": "ybiq_STaRurm",
        "colab": {
          "base_uri": "https://localhost:8080/"
        },
        "outputId": "e1e6d739-27cf-42a1-d811-bb7d5f5ce8b8"
      },
      "source": [
        "favfruits = ['apple','banana','mango','kiwi','orange']\r\n",
        "for fruit in favfruits[-2:]:\r\n",
        "  print(fruit)"
      ],
      "execution_count": null,
      "outputs": [
        {
          "output_type": "stream",
          "text": [
            "kiwi\n",
            "orange\n"
          ],
          "name": "stdout"
        }
      ]
    }
  ]
}