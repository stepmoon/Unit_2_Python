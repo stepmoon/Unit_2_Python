{
  "nbformat": 4,
  "nbformat_minor": 0,
  "metadata": {
    "colab": {
      "name": "Unit2_L3_Lists.ipynb",
      "provenance": [],
      "authorship_tag": "ABX9TyOFFA6GimcDXV5Jb90B6dto",
      "include_colab_link": true
    },
    "kernelspec": {
      "name": "python3",
      "display_name": "Python 3"
    }
  },
  "cells": [
    {
      "cell_type": "markdown",
      "metadata": {
        "id": "view-in-github",
        "colab_type": "text"
      },
      "source": [
        "<a href=\"https://colab.research.google.com/github/stepmoon/Unit_2_Python/blob/main/Unit2_L3_Lists.ipynb\" target=\"_parent\"><img src=\"https://colab.research.google.com/assets/colab-badge.svg\" alt=\"Open In Colab\"/></a>"
      ]
    },
    {
      "cell_type": "markdown",
      "metadata": {
        "id": "5Zh2kIw94IQu"
      },
      "source": [
        "Name: Stephanie Moon"
      ]
    },
    {
      "cell_type": "markdown",
      "metadata": {
        "id": "7hP0mTFG460p"
      },
      "source": [
        "Lesson 3 :Working with Lists\r\n"
      ]
    },
    {
      "cell_type": "markdown",
      "metadata": {
        "id": "iYe012u_5Djf"
      },
      "source": [
        "1.Create a list of 5 of your favorite tv shows.\r\n"
      ]
    },
    {
      "cell_type": "code",
      "metadata": {
        "id": "Qxu77u6a5JSI"
      },
      "source": [
        "shows =['breaking bad','lord of the rings','modern family','24','game of throne']"
      ],
      "execution_count": null,
      "outputs": []
    },
    {
      "cell_type": "markdown",
      "metadata": {
        "id": "IxUnMWRV5QlW"
      },
      "source": [
        "2.Print the list in its original order."
      ]
    },
    {
      "cell_type": "code",
      "metadata": {
        "colab": {
          "base_uri": "https://localhost:8080/"
        },
        "id": "Bic3Ku4Xupus",
        "outputId": "eadd9acc-feda-4bd3-a5b4-029156968d0e"
      },
      "source": [
        "shows =['breaking bad','lord of the rings','modern family','24','game of throne']\r\n",
        "print(shows)"
      ],
      "execution_count": 52,
      "outputs": [
        {
          "output_type": "stream",
          "text": [
            "['breaking bad', 'lord of the rings', 'modern family', '24', 'game of throne']\n"
          ],
          "name": "stdout"
        }
      ]
    },
    {
      "cell_type": "markdown",
      "metadata": {
        "id": "4lJPH0Bg5oXP"
      },
      "source": [
        "3.Use the sorted() function to print the list in alphabetical order.  How is sorted() different from sort()?"
      ]
    },
    {
      "cell_type": "code",
      "metadata": {
        "colab": {
          "base_uri": "https://localhost:8080/"
        },
        "id": "dRs1ktbWzdKg",
        "outputId": "ce15d329-ad6e-43a1-89e0-4fa4d5f99d5a"
      },
      "source": [
        "shows =['breaking bad','lord of the rings','modern family','24','game of throne']\r\n",
        "print(shows)\r\n",
        "print(sorted(shows))\r\n",
        "print (shows)"
      ],
      "execution_count": 47,
      "outputs": [
        {
          "output_type": "stream",
          "text": [
            "['breaking bad', 'lord of the rings', 'modern family', '24', 'game of throne']\n",
            "['24', 'breaking bad', 'game of throne', 'lord of the rings', 'modern family']\n",
            "['breaking bad', 'lord of the rings', 'modern family', '24', 'game of throne']\n"
          ],
          "name": "stdout"
        }
      ]
    },
    {
      "cell_type": "markdown",
      "metadata": {
        "id": "xKgJxod2514j"
      },
      "source": [
        "The sorted( ) function can be used to temporarily sort the list.\r\n"
      ]
    },
    {
      "cell_type": "markdown",
      "metadata": {
        "id": "G1h_Dsp056xL"
      },
      "source": [
        "4.Print out your original list."
      ]
    },
    {
      "cell_type": "code",
      "metadata": {
        "colab": {
          "base_uri": "https://localhost:8080/"
        },
        "id": "eL2JrB_r6Ahv",
        "outputId": "5444a6bc-6990-4246-aefe-2758b3315212"
      },
      "source": [
        "shows =['breaking bad','lord of the rings','modern family','24','game of throne']\r\n",
        "print(shows)"
      ],
      "execution_count": 53,
      "outputs": [
        {
          "output_type": "stream",
          "text": [
            "['breaking bad', 'lord of the rings', 'modern family', '24', 'game of throne']\n"
          ],
          "name": "stdout"
        }
      ]
    },
    {
      "cell_type": "markdown",
      "metadata": {
        "id": "82Qu9AIH6FVE"
      },
      "source": [
        "5.Used sorted() to print your list in reverse alphabetical order."
      ]
    },
    {
      "cell_type": "code",
      "metadata": {
        "colab": {
          "base_uri": "https://localhost:8080/"
        },
        "id": "mLMnNCeL22kI",
        "outputId": "f5f551ea-abce-4a6c-b065-16b89b54c053"
      },
      "source": [
        "shows =['breaking bad','lord of the rings','modern family','24','game of throne']\r\n",
        "print(shows)\r\n",
        "shows.sort(reverse=True)\r\n",
        "print(shows)"
      ],
      "execution_count": 51,
      "outputs": [
        {
          "output_type": "stream",
          "text": [
            "['breaking bad', 'lord of the rings', 'modern family', '24', 'game of throne']\n",
            "['modern family', 'lord of the rings', 'game of throne', 'breaking bad', '24']\n"
          ],
          "name": "stdout"
        }
      ]
    },
    {
      "cell_type": "markdown",
      "metadata": {
        "id": "ltWGvCnp6U1_"
      },
      "source": [
        "6.Create a message indicating how many favorite TV shows you have – use the len() function."
      ]
    },
    {
      "cell_type": "code",
      "metadata": {
        "colab": {
          "base_uri": "https://localhost:8080/"
        },
        "id": "a7-fkxdd6ZKf",
        "outputId": "35cc6d90-ce3d-4c18-9c2f-c0f693df248c"
      },
      "source": [
        "shows =['breaking bad','lord of the rings','modern family','24','game of throne']\r\n",
        "print(shows)\r\n",
        "x=len(shows)\r\n",
        "message= \"I have \" + str(x) +\" favorite TV shows\"\r\n",
        "print(message)"
      ],
      "execution_count": 62,
      "outputs": [
        {
          "output_type": "stream",
          "text": [
            "['breaking bad', 'lord of the rings', 'modern family', '24', 'game of throne']\n",
            "I have 5 favorite TV shows\n"
          ],
          "name": "stdout"
        }
      ]
    }
  ]
}