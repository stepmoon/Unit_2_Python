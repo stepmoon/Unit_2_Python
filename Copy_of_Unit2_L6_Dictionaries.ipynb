{
  "nbformat": 4,
  "nbformat_minor": 0,
  "metadata": {
    "colab": {
      "name": "Copy of Unit2_L6_Dictionaries.ipynb",
      "provenance": [],
      "collapsed_sections": [],
      "authorship_tag": "ABX9TyM7ts6b7jwEAuxzjn0nppuw",
      "include_colab_link": true
    },
    "kernelspec": {
      "name": "python3",
      "display_name": "Python 3"
    }
  },
  "cells": [
    {
      "cell_type": "markdown",
      "metadata": {
        "id": "view-in-github",
        "colab_type": "text"
      },
      "source": [
        "<a href=\"https://colab.research.google.com/github/stepmoon/Unit_2_Python/blob/main/Copy_of_Unit2_L6_Dictionaries.ipynb\" target=\"_parent\"><img src=\"https://colab.research.google.com/assets/colab-badge.svg\" alt=\"Open In Colab\"/></a>"
      ]
    },
    {
      "cell_type": "markdown",
      "metadata": {
        "id": "5SHcpffpFW1h"
      },
      "source": [
        "Name: Stephanie Moon"
      ]
    },
    {
      "cell_type": "markdown",
      "metadata": {
        "id": "6VYgY1jdFbCa"
      },
      "source": [
        "Lesson : Unit 2 _Python Dictionaries"
      ]
    },
    {
      "cell_type": "markdown",
      "metadata": {
        "id": "11sf9k5FFhsv"
      },
      "source": [
        "1.Create a simple dictionary that stores 2 variables, for example: first and last name.\r\n",
        "\r\n"
      ]
    },
    {
      "cell_type": "code",
      "metadata": {
        "id": "acqF4eyqFtMp"
      },
      "source": [
        "name = {'first_name': 'stephanie','last_name':'moon'}"
      ],
      "execution_count": null,
      "outputs": []
    },
    {
      "cell_type": "markdown",
      "metadata": {
        "id": "c-qoo_TZGNrS"
      },
      "source": [
        "2.Print out those variables stored in your previous dictionary. \r\n",
        "\r\n",
        "\r\n"
      ]
    },
    {
      "cell_type": "code",
      "metadata": {
        "colab": {
          "base_uri": "https://localhost:8080/"
        },
        "id": "8CGODVASGTWB",
        "outputId": "49f8b081-1c19-4499-c2f3-34b8600f55ad"
      },
      "source": [
        "name = {'first_name': 'stephanie','last_name':'moon'}\r\n",
        "print(name['first_name'])\r\n",
        "print(name['last_name'])\r\n",
        "print(name)"
      ],
      "execution_count": null,
      "outputs": [
        {
          "output_type": "stream",
          "text": [
            "stephanie\n",
            "moon\n",
            "{'first_name': 'stephanie', 'last_name': 'moon'}\n"
          ],
          "name": "stdout"
        }
      ]
    },
    {
      "cell_type": "markdown",
      "metadata": {
        "id": "yF16pA-RG7bG"
      },
      "source": [
        "3,Add a message to those variables on printing: for example: “Hello, firstname lastname!”"
      ]
    },
    {
      "cell_type": "code",
      "metadata": {
        "colab": {
          "base_uri": "https://localhost:8080/"
        },
        "id": "y3WmVG5OG-jq",
        "outputId": "08f57256-5d51-4b9b-ffe6-5dcf95016ac9"
      },
      "source": [
        "name = {'first_name': 'stephanie','last_name':'moon'}\r\n",
        "name_1 = [ 'first_name']\r\n",
        "name_2 =['last_name']\r\n",
        "print(\"Hello,\" + name['first_name']+ ' ' +name['last_name']+ \"!\")"
      ],
      "execution_count": null,
      "outputs": [
        {
          "output_type": "stream",
          "text": [
            "Hello,stephanie moon!\n"
          ],
          "name": "stdout"
        }
      ]
    },
    {
      "cell_type": "markdown",
      "metadata": {
        "id": "WjUICbKRKa1_"
      },
      "source": [
        "4.Create a dictionary that holds 2 key: value pairs:"
      ]
    },
    {
      "cell_type": "markdown",
      "metadata": {
        "id": "Y48gn75mIqnq"
      },
      "source": [
        "a.Look through your dictionary and print each pair,"
      ]
    },
    {
      "cell_type": "code",
      "metadata": {
        "colab": {
          "base_uri": "https://localhost:8080/"
        },
        "id": "5ZXXo8snKo-N",
        "outputId": "c638c01c-954e-451e-a8ae-3d9e870bee21"
      },
      "source": [
        "name = {\r\n",
        "    'first_name': 'stephanie',\r\n",
        "    'last_name': 'moon',\r\n",
        "    'Id': '123456'\r\n",
        "  }\r\n",
        "for key, value in name.items():\r\n",
        "    print(\"\\nkey: \" + key)\r\n",
        "    print(\"\\nvalue: \" + value)"
      ],
      "execution_count": null,
      "outputs": [
        {
          "output_type": "stream",
          "text": [
            "\n",
            "key: first_name\n",
            "\n",
            "value: stephanie\n",
            "\n",
            "key: last_name\n",
            "\n",
            "value: moon\n",
            "\n",
            "key: Id\n",
            "\n",
            "value: 123456\n"
          ],
          "name": "stdout"
        }
      ]
    }
  ]
}