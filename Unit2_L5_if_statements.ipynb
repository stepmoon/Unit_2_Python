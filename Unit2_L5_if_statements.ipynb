{
  "nbformat": 4,
  "nbformat_minor": 0,
  "metadata": {
    "colab": {
      "name": "Unit2_L5_if statements.ipynb",
      "provenance": [],
      "collapsed_sections": [],
      "authorship_tag": "ABX9TyN+0DiCA3N8L4xSvX3qf3Yw",
      "include_colab_link": true
    },
    "kernelspec": {
      "name": "python3",
      "display_name": "Python 3"
    }
  },
  "cells": [
    {
      "cell_type": "markdown",
      "metadata": {
        "id": "view-in-github",
        "colab_type": "text"
      },
      "source": [
        "<a href=\"https://colab.research.google.com/github/stepmoon/Unit_2_Python/blob/main/Unit2_L5_if_statements.ipynb\" target=\"_parent\"><img src=\"https://colab.research.google.com/assets/colab-badge.svg\" alt=\"Open In Colab\"/></a>"
      ]
    },
    {
      "cell_type": "markdown",
      "metadata": {
        "id": "bqgTB_xfXujb"
      },
      "source": [
        "Name: Stephanie Moon"
      ]
    },
    {
      "cell_type": "markdown",
      "metadata": {
        "id": "U4hp8dLpegzA"
      },
      "source": [
        "Lesson: 5 if-elif-else Statements"
      ]
    },
    {
      "cell_type": "markdown",
      "metadata": {
        "id": "bWK1W1XdesAC"
      },
      "source": [
        "1.Make a list of 5 or more usernames, including an admin account.  Imagine you are writing code that will welcome people to your application on login. Loop through the list and print your greeting."
      ]
    },
    {
      "cell_type": "markdown",
      "metadata": {
        "id": "n5mw4S0ieyWm"
      },
      "source": [
        "a.If the admin account logs in, give them a special greeting.  They’re the admin, after all!\r\n"
      ]
    },
    {
      "cell_type": "markdown",
      "metadata": {
        "id": "6_vv6pkpe6oX"
      },
      "source": [
        "b.Other users can get the generic greeting"
      ]
    },
    {
      "cell_type": "code",
      "metadata": {
        "colab": {
          "base_uri": "https://localhost:8080/"
        },
        "id": "ecJiJgJ-H7pe",
        "outputId": "1654c04b-bef0-4814-f7a9-9054a1b05cd1"
      },
      "source": [
        "names = ['admin','venus23','peggy','beyid','judy9']\r\n",
        "for x in names:\r\n",
        "  if x == 'admin':\r\n",
        "   print(\"welcome to NYSC admin system!\")\r\n",
        "else:\r\n",
        "   print(\"Welcome to NYSC!\")"
      ],
      "execution_count": 2,
      "outputs": [
        {
          "output_type": "stream",
          "text": [
            "welcome to NYSC admin system!\n",
            "Welcome to NYSC!\n"
          ],
          "name": "stdout"
        }
      ]
    },
    {
      "cell_type": "markdown",
      "metadata": {
        "id": "cO56pgACe-c2"
      },
      "source": [
        "2.Store numbers 1-10 in a list\r\n"
      ]
    },
    {
      "cell_type": "code",
      "metadata": {
        "id": "Yp9Xf6UF-5lN"
      },
      "source": [
        "numbers = ['1','2','3','4','5','6','7','8','9','10']"
      ],
      "execution_count": null,
      "outputs": []
    },
    {
      "cell_type": "markdown",
      "metadata": {
        "id": "beyc-hJffDMB"
      },
      "source": [
        "a.Loop through the list\r\n"
      ]
    },
    {
      "cell_type": "code",
      "metadata": {
        "colab": {
          "base_uri": "https://localhost:8080/"
        },
        "id": "8POh-gmOADjY",
        "outputId": "74d0f94e-e900-45f9-abd4-9d378c308532"
      },
      "source": [
        "numbers = ['1','2','3','4','5','6','7','8','9','10']\r\n",
        "for x in numbers:\r\n",
        "  print(x)"
      ],
      "execution_count": null,
      "outputs": [
        {
          "output_type": "stream",
          "text": [
            "1\n",
            "2\n",
            "3\n",
            "4\n",
            "5\n",
            "6\n",
            "7\n",
            "8\n",
            "9\n",
            "10\n"
          ],
          "name": "stdout"
        }
      ]
    },
    {
      "cell_type": "markdown",
      "metadata": {
        "id": "LpEF8l8KfJXK"
      },
      "source": [
        "b.Use an if-elif-else chain inside your loop to print the ordinal ending for each number – for example – 1st, 2nd, 3rd … etc.\r\n"
      ]
    },
    {
      "cell_type": "code",
      "metadata": {
        "id": "DQuuEjN4_qwX",
        "colab": {
          "base_uri": "https://localhost:8080/"
        },
        "outputId": "143c22ea-50e8-4549-dfc1-ae0f67904393"
      },
      "source": [
        "numbers = ['1','2','3','4','5','6','7','8','9','10']\r\n",
        "for x in numbers:\r\n",
        "  if x == '1':\r\n",
        "    print(str(x) + \"st\")\r\n",
        "  elif x == '2':\r\n",
        "    print(str(x) + \"nd\")\r\n",
        "  elif x== '3':\r\n",
        "     print(str(x)+ \"rd\")\r\n",
        "  else:\r\n",
        "      print(str(x)+ \"th\")"
      ],
      "execution_count": 31,
      "outputs": [
        {
          "output_type": "stream",
          "text": [
            "1st\n",
            "2nd\n",
            "3rd\n",
            "4th\n",
            "5th\n",
            "6th\n",
            "7th\n",
            "8th\n",
            "9th\n",
            "10th\n"
          ],
          "name": "stdout"
        }
      ]
    }
  ]
}